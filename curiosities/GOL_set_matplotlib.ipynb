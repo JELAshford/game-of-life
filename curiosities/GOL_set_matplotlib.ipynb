{
 "cells": [
  {
   "cell_type": "code",
   "execution_count": 1,
   "metadata": {},
   "outputs": [],
   "source": [
    "# Conway's Game of Life - Hopefully done better than 20 y/o James\n",
    "# Use an encoding method that keeps a set of active cells in tuple format\n",
    "%matplotlib tk\n",
    "import matplotlib.pylab as plt\n",
    "from matplotlib import animation\n",
    "import numpy as np\n",
    ""
   ]
  },
  {
   "cell_type": "code",
   "execution_count": 2,
   "metadata": {},
   "outputs": [],
   "source": [
    "def neighbours(pos, centre=True):\n",
    "    # List of adjacent positions\n",
    "    adj = [(-1, -1), (-1, 0), (-1, 1), (0, -1), (0, 0), (0, 1), (1, -1), (1, 0), (1, 1)]\n",
    "    # Remove (0,0) if not including self\n",
    "    if not centre: adj.remove((0, 0))\n",
    "    # Return list of all the neighbout positions\n",
    "    return(set((pos[0]+dx, pos[1]+dy) for (dx, dy) in adj))"
   ]
  },
  {
   "cell_type": "code",
   "execution_count": 3,
   "metadata": {},
   "outputs": [],
   "source": [
    "def update(active_cells, scanned_cells):\n",
    "    # Get cell tuples that surround active cells\n",
    "    scan_cells = set.union(*[neighbours(c) for c in active_cells])\n",
    "    \n",
    "    # For each cell of interest, perform the rules and create new cell data\n",
    "    new_active = set()\n",
    "    for c in scan_cells:\n",
    "        # Get number of active adjacent cells\n",
    "        n = len(neighbours(c, centre=False).intersection(active_cells))\n",
    "        \n",
    "        # Add to new_active if active by condensed Conway GOL rules\n",
    "        if (n == 3) or (c in active_cells and n == 2): new_active.add(c)\n",
    "            \n",
    "    # Create 2D array to be visualised\n",
    "    window = np.zeros((S, S))\n",
    "    \n",
    "    # Add in all scanned cells in scanned\n",
    "    for s in scanned_cells: \n",
    "        if s[0] < S and s[0] >= 0 and s[1] < S and s[1] >= 0: \n",
    "            window[s[0], s[1]] = 0.5\n",
    "    # Add in all active cells in active\n",
    "    for c in new_active:  \n",
    "        if c[0] < S and c[0] >= 0 and c[1] < S and c[1] >= 0: \n",
    "            window[c[0], c[1]] = 1\n",
    "        \n",
    "    return(new_active, scan_cells, window)"
   ]
  },
  {
   "cell_type": "code",
   "execution_count": 4,
   "metadata": {},
   "outputs": [],
   "source": [
    "# Define run parameters\n",
    "FRAMES = 1000\n",
    "S = 50\n",
    "H = int(S/2)\n",
    "# active_cells = {(H, H) ,(H+2, H-1), (H+2,H), (H+1, H+2), (H+2, H+3), (H+2, H+4), (H+2, H+5)} # Acorn\n",
    "active_cells = {(x, y) for x in range(S) for y in range(S) if np.random.random() > 0.5} #Random Start\n",
    "scanned_cells = active_cells"
   ]
  },
  {
   "cell_type": "code",
   "execution_count": 5,
   "metadata": {
    "tags": [
     "outputPrepend"
    ]
   },
   "outputs": [],
   "source": [
    "# Generate all the frames for the animation\n",
    "X = [np.zeros((S, S))]\n",
    "for _ in range(FRAMES):\n",
    "    active_cells, scanned_cells, window = update(active_cells, scanned_cells)\n",
    "    # Add to storage\n",
    "    X.append(window)"
   ]
  },
  {
   "cell_type": "code",
   "execution_count": 6,
   "metadata": {},
   "outputs": [],
   "source": [
    "# Create figure\n",
    "fig, ax = plt.subplots()\n",
    "gol = ax.imshow(X[1], cmap=\"gray\")\n",
    "\n",
    "def init():\n",
    "    gol.set_data(X[1])\n",
    "    return(gol,)\n",
    "\n",
    "def animate(i):\n",
    "    # Update the screen\n",
    "    gol.set_data(X[i])\n",
    "\n",
    "    # active_cells, scanned_cells, window = update(active_cells, scanned_cells)\n",
    "    # gol.set_data(window)\n",
    "    return(gol,)\n",
    "\n",
    "# Animate\n",
    "anim = animation.FuncAnimation(fig, animate, frames=FRAMES, interval=1)"
   ]
  },
  {
   "cell_type": "code",
   "execution_count": null,
   "metadata": {},
   "outputs": [],
   "source": []
  }
 ],
 "metadata": {
  "kernelspec": {
   "display_name": "Python 3",
   "language": "python",
   "name": "python3"
  },
  "language_info": {
   "codemirror_mode": {
    "name": "ipython",
    "version": 3
   },
   "file_extension": ".py",
   "mimetype": "text/x-python",
   "name": "python",
   "nbconvert_exporter": "python",
   "pygments_lexer": "ipython3",
   "version": "3.7.4-final"
  }
 },
 "nbformat": 4,
 "nbformat_minor": 2
}